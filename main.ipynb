{
 "cells": [
  {
   "cell_type": "code",
   "execution_count": 4,
   "id": "b1ef9db5-5239-4700-8935-32e56286b68c",
   "metadata": {},
   "outputs": [],
   "source": [
    "from create_bigquery_table import create_clustered_table, save_dataframe\n",
    "from data_cleaning import get_cleaned_dataset\n",
    "\n",
    "from google.cloud import bigquery\n",
    "\n",
    "client = bigquery.Client()\n",
    "\n",
    "\n",
    "def run_query(file: str) -> None:\n",
    "    with open(file) as query_file:\n",
    "        query = query_file.read()\n",
    "        query = query.replace('\\n', ' ')\n",
    "    \n",
    "        query_job = client.query(query)\n",
    "        rows = query_job.result()\n",
    "        \n",
    "        for row in rows:\n",
    "            print(row[:])"
   ]
  },
  {
   "cell_type": "code",
   "execution_count": 6,
   "id": "2f4d8b38-2d0d-4c38-9b40-0ef95a8d0ebc",
   "metadata": {},
   "outputs": [],
   "source": [
    "create_clustered_table()"
   ]
  },
  {
   "cell_type": "code",
   "execution_count": 7,
   "id": "4b554c33-1f97-4847-8609-49c575c244e0",
   "metadata": {},
   "outputs": [],
   "source": [
    "data = get_cleaned_dataset()"
   ]
  },
  {
   "cell_type": "code",
   "execution_count": 8,
   "id": "975473e7-4c59-48f2-8251-a4d7c3d485f0",
   "metadata": {},
   "outputs": [],
   "source": [
    "save_dataframe(data)"
   ]
  },
  {
   "cell_type": "code",
   "execution_count": 29,
   "id": "1a69f5ab-7bc5-4028-a04f-053a6e242983",
   "metadata": {},
   "outputs": [
    {
     "name": "stdout",
     "output_type": "stream",
     "text": [
      "('Uruguay', 69)\n"
     ]
    }
   ],
   "source": [
    "# ¿Cuál es la nacionalidad con mayor cantidad de personas menores a 30 años?\n",
    "run_query('queries/1.sql')"
   ]
  },
  {
   "cell_type": "code",
   "execution_count": 30,
   "id": "ce080313-5e53-4eab-bd55-1173beba5a7e",
   "metadata": {},
   "outputs": [
    {
     "name": "stdout",
     "output_type": "stream",
     "text": [
      "('México', 'Rodríguez', 74)\n",
      "('Argentina', 'Alonso', 58)\n",
      "('Unknown', 'Sánchez', 18)\n",
      "('Chile', 'Hernández', 60)\n",
      "('Brasil', 'Ruiz', 61)\n",
      "('Uruguay', 'López', 67)\n",
      "('Paraguay', 'Gómez', 42)\n"
     ]
    }
   ],
   "source": [
    "# ¿Cuál es el nombre o apellido más común en cada país?\n",
    "run_query('queries/2.sql')"
   ]
  },
  {
   "cell_type": "code",
   "execution_count": 31,
   "id": "49a3769b-2c27-4ddf-ba0d-eb8d57db5ad6",
   "metadata": {},
   "outputs": [
    {
     "name": "stdout",
     "output_type": "stream",
     "text": [
      "('México', 58.11914893617023)\n",
      "('Uruguay', 57.41818181818183)\n",
      "('Brasil', 59.393617021276576)\n",
      "('Chile', 65.79496402877702)\n",
      "('Argentina', 63.22857142857142)\n",
      "('Paraguay', 60.62650602409639)\n",
      "('Unknown', 60.708333333333336)\n"
     ]
    }
   ],
   "source": [
    "# Dentro de los casos con coding ‘UPPER’, ¿cuál es la edad promedio por nacionalidad?\n",
    "run_query('queries/3.sql')"
   ]
  }
 ],
 "metadata": {
  "kernelspec": {
   "display_name": "Python 3 (ipykernel)",
   "language": "python",
   "name": "python3"
  },
  "language_info": {
   "codemirror_mode": {
    "name": "ipython",
    "version": 3
   },
   "file_extension": ".py",
   "mimetype": "text/x-python",
   "name": "python",
   "nbconvert_exporter": "python",
   "pygments_lexer": "ipython3",
   "version": "3.12.2"
  }
 },
 "nbformat": 4,
 "nbformat_minor": 5
}
